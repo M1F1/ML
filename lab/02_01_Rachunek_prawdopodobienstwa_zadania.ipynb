{
 "cells": [
  {
   "cell_type": "markdown",
   "metadata": {},
   "source": [
    "## Zadania"
   ]
  },
  {
   "cell_type": "markdown",
   "metadata": {},
   "source": [
    "#### Zadanie 1\n",
    "\n",
    "* $p(x_1 = a_1, x_2 = b_1) = 0.2$\n",
    "* $p(x_1 = a_2, x_2 = b_1) = 0.3$\n",
    "* $p(x_1 = a_3, x_2 = b_1) = 0.1$\n",
    "* $p(x_1 = a_1, x_2 = b_2) = 0.05$\n",
    "* $p(x_1 = a_2, x_2 = b_2) = 0.25$\n",
    "* $p(x_1 = a_3, x_2 = b_2) = 0.1$\n",
    "\n",
    "Zrobić rysunek i policzyć rozkłady brzegowe."
   ]
  },
  {
   "cell_type": "markdown",
   "metadata": {},
   "source": [
    "#### Zadanie 2\n",
    "\n",
    "Notebook z wykładu: Rozklad_laczny_brzegowy_warnunkowy.ipynb\n",
    "\n",
    "Rysunek w sekcji \"Rozkład brzegowy - mieszany\"\n",
    "\n",
    "Korzystając z rysunku wypisać $p(x_2)$ oraz narysować przy tablicy $f(x_1)$."
   ]
  },
  {
   "cell_type": "markdown",
   "metadata": {},
   "source": [
    "#### Zadanie 3\n",
    "\n",
    "* $p(x_1 = a_1, x_2 = b_1) = 0.2$\n",
    "* $p(x_1 = a_2, x_2 = b_1) = 0.3$\n",
    "* $p(x_1 = a_3, x_2 = b_1) = 0.1$\n",
    "* $p(x_1 = a_1, x_2 = b_2) = 0.05$\n",
    "* $p(x_1 = a_2, x_2 = b_2) = 0.25$\n",
    "* $p(x_1 = a_3, x_2 = b_2) = 0.1$\n",
    "\n",
    "Policzyć pięć rozkładów warunkowych (5 osób liczy jednocześnie przy tablicy)."
   ]
  },
  {
   "cell_type": "markdown",
   "metadata": {},
   "source": [
    "#### Zadanie 4\n",
    "\n",
    "Niech $p$ oznacza rozkład łączny na parach $(x_1, x_2)$. Jeśli wylosowaliśmy taką parę i na przykład $x_2 = b$, to nasza wiedza o $x_1$ (przed sprawdzeniem wartości $x_1$) opisana jest rozkładem warunkowym $p(x_1\\mid x_2=b)$.\n",
    "\n",
    "Załóżmy teraz, że wylosowaliśmy kolejną parę $(x_1, x_2)$, ale tym razem __nie__ sprawdzamy wylosowanej wartości $x_2$. Jak wygląda nasza wiedza na temat $x_1$?"
   ]
  },
  {
   "cell_type": "markdown",
   "metadata": {},
   "source": [
    "#### Zadanie 5\n",
    "\n",
    "Notebook z wykładu: Zmienne_niezalezne.ipynb\n",
    "\n",
    "Rysunek w sekcji \"Zmienne niezależne\"\n",
    "\n",
    "Dany jest ciągły rozkład łączny dwóch zmiennych niezależnych.\n",
    "\n",
    "Każdy przekrój rozkładu łącznego równoległy do osi współrzędnych wygląda jak przeskalowany rozkład brzegowy. Z czego to wynika (z których wzorów)? Ile wynosi stała skalowania?\n",
    "\n",
    "Rozkład zależny nie będzie miał tej własności - dlaczego?"
   ]
  },
  {
   "cell_type": "markdown",
   "metadata": {},
   "source": [
    "#### Zadanie 6\n",
    "\n",
    "Działania na zmiennych losowych.\n",
    "\n",
    "Udowodnić wprost z definicji podstawowe własności rozkładu normalnego (jednowymiarowego):\n",
    "* suma dwóch rozkładów normalnych jest rozkładem normalnym,\n",
    "* iloczyn rozkładu normalnego przez niezerową stałą jest rozkładem normalnym."
   ]
  },
  {
   "cell_type": "markdown",
   "metadata": {},
   "source": [
    "#### Zadanie 7\n",
    "\n",
    "Podać przykład trzech zmiennych losowych $x_1, x_2, \\theta$ takich, że $x_1$ oraz $x_2$ są warunkowo niezależne pod warunkiem $\\theta$. Na przykład można wziąć ciągłe zmienne $x_1, x_2$ oraz dyskretną zmienną $\\theta$.\n",
    "\n",
    "Narysować wykres gęstości $p(x_1, x_2 \\mid \\theta)$ dla różnych wartości $\\theta$. Przy pomocy wykresu wytłumaczyć, dlaczego:\n",
    "* jeśli nie znamy wartości $\\theta$, to można wnioskować o wartości $x_2$ na podstawie wartości $x_1$,\n",
    "* jeśli znamy wartość $\\theta$, to wiedza o wartości $x_1$ nie zmienia wiedzy o wartości $x_2$."
   ]
  },
  {
   "cell_type": "markdown",
   "metadata": {},
   "source": [
    "#### Zadanie 8\n",
    "\n",
    "Udowodnić (z definicji) wzór Bayesa."
   ]
  },
  {
   "cell_type": "markdown",
   "metadata": {},
   "source": [
    "#### Zadanie 9\n",
    "\n",
    "Wzór Bayesa:\n",
    "\n",
    "$$p(\\theta\\mid x) = \\dfrac{p(x\\mid \\theta)\\cdot p(\\theta)}{p(x)}$$\n",
    "\n",
    "Wiemy, że jeśli $\\theta$ może przyjmować tylko skończenie wiele wartości, tzn. $\\theta\\in\\{\\theta^1, \\ldots, \\theta^K\\}$, to możemy zapisać:\n",
    "\n",
    "$$p(\\theta\\mid x) = \\dfrac{p(x\\mid \\theta)\\cdot p(\\theta)}{p(x\\mid\\theta=\\theta^1)p(\\theta=\\theta^1) + \\ldots + p(x\\mid\\theta=\\theta^K)p(\\theta=\\theta^K)}$$\n",
    "\n",
    "Dodajmy więcej zmiennych:\n",
    "\n",
    "$$p(\\theta,\\alpha\\mid x,y,z) = \\dfrac{p(x,y,z\\mid \\theta,\\alpha)\\cdot p(\\theta,\\alpha)}{p(x,y,z)}$$\n",
    "\n",
    "Jeśli $\\theta\\in\\{\\theta^1, \\ldots, \\theta^K\\}$ oraz $\\alpha\\in\\{\\alpha^1, \\ldots, \\alpha^A\\}$, to na co możemy podmienić $p(x,y,z)$ w mianowniku w powyższym wzorze?"
   ]
  },
  {
   "cell_type": "markdown",
   "metadata": {},
   "source": [
    "#### Zadanie 10\n",
    "\n",
    "Udowodnić wzór (z wykładu) na PPD:\n",
    "\n",
    "$$p(x_{N+1}\\mid D_{Tr}) = \\sum_{k=1}^K p(x_{N+1}\\mid\\theta=\\theta^k)p(\\theta=\\theta^k\\mid D_{Tr})$$\n",
    "\n",
    "Podpowiedź. Czy nie powinno być raczej:\n",
    "$$p(x_{N+1}\\mid D_{Tr}) = \\sum_{k=1}^K p(x_{N+1}\\mid\\theta=\\theta^k, D_{Tr})p(\\theta=\\theta^k\\mid D_{Tr})$$\n",
    "a jeśli tak, to dlaczego jedno wynika z drugiego?\n",
    "\n",
    "Przedstawić formalne rozumowanie. Każdy krok wytłumaczyć słownie w języku \"wiedzy\", \"hipotez\" i \"niepewności\"."
   ]
  },
  {
   "cell_type": "markdown",
   "metadata": {},
   "source": [
    "#### Zadanie 11\n",
    "\n",
    "Udowodnić, że jeśli mamy jednostajny prior na hipotezach, to MLE jest równoważne MAP."
   ]
  },
  {
   "cell_type": "markdown",
   "metadata": {},
   "source": [
    "#### Zadanie 12\n",
    "\n",
    "Mamy monetę, o której nie wiemy, czy jest symetryczna. Niech $\\theta$ przyjmuje wartości z przedziału $[0, 1]$ i reprezentuje prawdopodobieństwo wylosowania orła. Nasz prior to:\n",
    "* $p(\\theta=0.3) = 0.2$\n",
    "* $p(\\theta=0.5) = 0.7$\n",
    "* $p(\\theta=0.7) = 0.1$\n",
    "\n",
    "Niech $x$ oznacza rzuty monetą. Załóżmy, że $x_1 = \\mathrm{ORZEŁ}$.\n",
    "\n",
    "1. Zdefiniować $p(x\\mid\\theta)$.\n",
    "2. Policzyć $p(x_2 = \\mathrm{ORZEŁ} \\mid x_1 = \\mathrm{ORZEŁ})$\n",
    "3. Policzyć (podać liczbowe prawdopodobieństwa) rozkład $p(x_1, x_2)$. Pokazać, że to __nie__ są zmienne niezależne.\n",
    "4. Policzyć $p(x_2)$ metodą MAP.\n",
    "5. Policzyć $p(x_2)$ metodą MLE."
   ]
  },
  {
   "cell_type": "markdown",
   "metadata": {},
   "source": [
    "#### Zadanie 13\n",
    "\n",
    "Udowodnić, że jeśli mamy założenie I.I.D. (warunkowe, pod warunkiem $\\theta$), to wzór Bayesa można stosować \"na raty\".\n",
    "\n",
    "To znaczy:\n",
    "\n",
    "$$p(\\theta\\mid x, y) = \\dfrac{p(x, y\\mid \\theta)\\cdot p(\\theta)}{p(x, y)}$$\n",
    "\n",
    "ale też:\n",
    "\n",
    "$$p(\\theta\\mid x) = \\dfrac{p(x\\mid \\theta)\\cdot p(\\theta)}{p(x)}$$\n",
    "\n",
    "$$p(\\theta\\mid x, y) = \\dfrac{p(y\\mid \\theta)\\cdot p(\\theta\\mid x)}{\\sum_{k=1}^K p(y\\mid\\theta=\\theta^k)p(\\theta=\\theta^k\\mid x)}$$\n",
    "\n",
    "Czyli w pierwszym kroku obserwujemy tylko $x$ i prior $p(\\theta)$ zmienia się w posterior $p(\\theta\\mid x)$, a w drugim kroku obserwujemy $y$, przy czym jako prior używamy posterior $p(\\theta\\mid x)$. Odpowiada to intuicji, że z każdą kolejną obserwacją \"przybywa\" nam wiedzy o $\\theta$, natomiast w końcu dostaniemy dokładnie to samo, co gdybyśmy zaobserwowali jednocześnie $x$ oraz $y$.\n",
    "\n",
    "Dlaczego w drugim kroku nie możemy w mianowniku napisać po prostu $p(y)$ zamiast $\\sum_{k=1}^K p(y\\mid\\theta=\\theta^k)p(\\theta=\\theta^k\\mid x)$?\n"
   ]
  },
  {
   "cell_type": "markdown",
   "metadata": {},
   "source": [
    "#### Zadanie 14\n",
    "\n",
    "Podać przykład rozkładu dyskretnego, który nie ma wartości oczekiwanej. "
   ]
  },
  {
   "cell_type": "markdown",
   "metadata": {},
   "source": [
    "#### Zadanie 15\n",
    "\n",
    "Udowodnić, że rozkład Cauchy'ego nie ma wartości oczekiwanej.\n",
    "\n",
    "Rozkład Cauchy'ego ma gęstość $f(x) = \\dfrac{1}{\\pi(1+x^2)}$."
   ]
  }
 ],
 "metadata": {
  "kernelspec": {
   "display_name": "Python 3",
   "language": "python",
   "name": "python3"
  },
  "language_info": {
   "codemirror_mode": {
    "name": "ipython",
    "version": 3
   },
   "file_extension": ".py",
   "mimetype": "text/x-python",
   "name": "python",
   "nbconvert_exporter": "python",
   "pygments_lexer": "ipython3",
   "version": "3.7.0"
  }
 },
 "nbformat": 4,
 "nbformat_minor": 2
}
