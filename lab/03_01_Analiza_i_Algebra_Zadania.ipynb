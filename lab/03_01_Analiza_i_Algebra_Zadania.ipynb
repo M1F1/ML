{
 "cells": [
  {
   "cell_type": "markdown",
   "metadata": {},
   "source": [
    "## Zadania"
   ]
  },
  {
   "cell_type": "markdown",
   "metadata": {},
   "source": [
    "#### Zadanie 0\n",
    "\n",
    "Pochodna funkcji jednej zmiennej:\n",
    "* http://wazniak.mimuw.edu.pl/index.php?title=Analiza_matematyczna_1/%C4%86wiczenia_9:_Pochodna_funkcji_jednej_zmiennej\n",
    "* http://wazniak.mimuw.edu.pl/index.php?title=Analiza_matematyczna_1/Test_9:_Pochodna_funkcji_jednej_zmiennej\n",
    "\n",
    "Pochodna funkcji wielu zmiennych:\n",
    "* http://wazniak.mimuw.edu.pl/index.php?title=Analiza_matematyczna_2/%C4%86wiczenia_7:_R%C3%B3%C5%BCniczka._R%C3%B3%C5%BCniczki_wy%C5%BCszych_rz%C4%99d%C3%B3w._Wz%C3%B3r_Taylora\n",
    "* http://wazniak.mimuw.edu.pl/index.php?title=Analiza_matematyczna_2/Test_7:_R%C3%B3%C5%BCniczka._R%C3%B3%C5%BCniczki_wy%C5%BCszych_rz%C4%99d%C3%B3w._Wz%C3%B3r_Taylora\n",
    "\n",
    "Macierze:\n",
    "* http://wazniak.mimuw.edu.pl/index.php?title=Algebra_liniowa_z_geometri%C4%85_analityczn%C4%85/%C4%86wiczenia_5:_Macierze\n",
    "* http://wazniak.mimuw.edu.pl/index.php?title=Algebra_liniowa_z_geometri%C4%85_analityczn%C4%85/Test_5:_Macierze"
   ]
  },
  {
   "cell_type": "markdown",
   "metadata": {},
   "source": [
    "#### Zadanie 1\n",
    "\n",
    "Pokazać, że $(M_1 \\cdot M_2) (v) = M_1(M_2(v))$ dla:\n",
    "* $M_1 = \\begin{bmatrix}\n",
    "    0 & 1 & 2 \\\\\n",
    "    3 & 2 & -1 \\end{bmatrix}$\n",
    "* $M_2 = \\begin{bmatrix}\n",
    "    1 & 2 \\\\\n",
    "    3 & 2 \\\\\n",
    "    -1 & 0 \\end{bmatrix}$\n",
    "* $v = \\begin{bmatrix}\n",
    "    2 \\\\\n",
    "    3 \\end{bmatrix}$\n",
    "\n",
    "Jakie są wymiary macierzy i wektorów występujących w tym równaniu? Skąd i w co idą odwzorowania liniowe?"
   ]
  },
  {
   "cell_type": "markdown",
   "metadata": {},
   "source": [
    "#### Zadanie 2\n",
    "\n",
    "Udowodnić nierówność Cauchy'ego-Schwarza."
   ]
  },
  {
   "cell_type": "markdown",
   "metadata": {},
   "source": [
    "#### Zadanie 3\n",
    "\n",
    "Dane są trzy wektory w $\\mathbb{R}^3$:\n",
    "* $a = (1,1,1)$,\n",
    "* $b = (1,3,2)$,\n",
    "* $c = (0,0,6)$.\n",
    "\n",
    "Chcemy jak najlepiej (w sensie euklidesowym) przybliżyć wektor $c$ przy pomocy wektorów $a$ i $b$. Oznacza to znalezienie takich $\\alpha$ i $\\beta$, które minimalizują:\n",
    "\n",
    "$$\\|\\alpha a + \\beta b - c\\|$$\n",
    "\n",
    "Obliczyć optymalne parametry $\\alpha$ i $\\beta$. Sprawdzić, że to najlepsze przybliżenie jest rzutem prostopadłym wektora $c$ na płaszczyznę rozpinaną przez $a$ i $b$. Kąt obliczyć przy pomocy iloczynu skalarnego. Wykonać rysunek.\n",
    "\n",
    "Wskazówka: znaleźć minimum funkcji $f(\\alpha, \\beta) = \\|\\alpha a + \\beta b - c\\|^2$ przyrównując odpowiednie pochodne do zera."
   ]
  },
  {
   "cell_type": "markdown",
   "metadata": {},
   "source": [
    "#### Zadanie 4\n",
    "\n",
    "Izometria to takie odwzorowanie liniowe $f:\\mathbb{R}^D \\to \\mathbb{R}^D$, że dla dowolnego $v\\in\\mathbb{R}^D$ zachodzi $\\|v\\| = \\|f(v)\\|$.\n",
    "\n",
    "Pokazać, że izometria zachowuje kąty (czyli nie zmienia wartości iloczynu skalarnego).\n",
    "\n",
    "Pokazać, że izometria przekształca (dowolną) bazę ortonormalną na bazę ortonormalną.\n",
    "\n",
    "Pokazać, że jeśli $e_1, \\ldots, e_D$ jest bazą ortonormalną, to macierz utworzona z tych wektorów (kolumnowych) jest macierzą pewnej izometrii."
   ]
  },
  {
   "cell_type": "markdown",
   "metadata": {},
   "source": [
    "#### Zadanie 5\n",
    "\n",
    "Notebook: Pochodna funkcji wielu zmiennych\n",
    "\n",
    "Rozdział: Pochodna funkcji złożonej\n",
    "\n",
    "Korzystając z faktu\n",
    "\n",
    "$$\\dfrac{\\partial (f\\circ g)_n}{\\partial x_k}(\\mathbf{x}) = \\dfrac{\\partial f_n}{\\partial y_1}(\\mathbf{y}) \\cdot \\dfrac{\\partial g_1}{\\partial x_k}(\\mathbf{x}) + \\ldots + \\dfrac{\\partial f_n}{\\partial y_M}(\\mathbf{y}) \\cdot \\dfrac{\\partial g_M}{\\partial x_k}(\\mathbf{x}) = \\sum_{m=1}^M \\dfrac{\\partial f_n}{\\partial y_m}(\\mathbf{y}) \\cdot \\dfrac{\\partial g_m}{\\partial x_k}(\\mathbf{x})$$\n",
    "\n",
    "pokazać, że\n",
    "\n",
    "$$\\mathbf{J}_{f\\circ g}(\\mathbf{x}) = \\mathbf{J}_{f}(g(\\mathbf{x}))\\cdot \\mathbf{J}_{g}(\\mathbf{x})$$"
   ]
  },
  {
   "cell_type": "markdown",
   "metadata": {},
   "source": [
    "#### Zadanie 6\n",
    "\n",
    "Niech $f: \\mathbb{R}\\to \\mathbb{R}$ i niech $F$ oznacza wierzchołek grafu obliczeń, który przyjmuje tablicę float'ów i zwraca tablicę o takim samym rozmiarze, przy czym każdy element zostaje przekształcony funkcją $f$.\n",
    "\n",
    "`F = numpy.vectorize(f)`\n",
    "\n",
    "https://docs.scipy.org/doc/numpy/reference/generated/numpy.vectorize.html\n",
    "\n",
    "Jak zaimplementować metodę backward_pass w tym wierzchołku? Jak wygląda jakobian (przypomnienie: \"rozwinięty\" input i output)?"
   ]
  },
  {
   "cell_type": "markdown",
   "metadata": {},
   "source": [
    "#### Zadanie 7\n",
    "\n",
    "Jak zaimplementować metody forward_pass i backward_pass w wierzchołku StopGradient?\n",
    "\n",
    "Zasada działania StopGradient: https://www.tensorflow.org/api_docs/python/tf/stop_gradient"
   ]
  }
 ],
 "metadata": {
  "kernelspec": {
   "display_name": "Python 3",
   "language": "python",
   "name": "python3"
  },
  "language_info": {
   "codemirror_mode": {
    "name": "ipython",
    "version": 3
   },
   "file_extension": ".py",
   "mimetype": "text/x-python",
   "name": "python",
   "nbconvert_exporter": "python",
   "pygments_lexer": "ipython3",
   "version": "3.7.0"
  }
 },
 "nbformat": 4,
 "nbformat_minor": 2
}
