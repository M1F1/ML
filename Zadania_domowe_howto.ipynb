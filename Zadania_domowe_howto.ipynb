{
 "cells": [
  {
   "cell_type": "markdown",
   "metadata": {},
   "source": [
    "## Samodzielna praca\n",
    "\n",
    "Celem przedmiotu jest przede wszystkim przygotowanie studentów do dalszej działalności w dziedzinie Machine Learning. W związku z tym zachęcamy studentów do:\n",
    "- (oczywiście) aktywnego uczestnictwa w zajęciach,\n",
    "- korzystania z wyznaczonych przez nas terminów konsultacji,\n",
    "- dyskutowania między sobą na temat wykładów i ćwiczeń oraz zadawanych zadań,\n",
    "- odwiedzania Koła Naukowego Robotyki i Sztucznej Inteligencji.\n",
    "\n",
    "Jednakże aby ocena z przedmiotu wystawiona została sprawiedliwie, część pracy musi zostać wykonana samodzielnie przez studenta. Aby uniknąć niepotrzebnych nieporozumień, proszę bardzo dokładnie zapoznać się z poniższymi zasadami.\n",
    "\n",
    "1. Dyskusja na temat zadawanych zadań może dotyczyć jedynie ogólnej postaci algorytmu. Prosimy w miarę możliwości zadawać pytania dotyczące zadań na ćwiczeniach.\n",
    "2. Jeśli studenci dyskutują między sobą (w mniejszej grupie) na temat zadań i tematyka dyskusji istotnie przekracza materiał wyłożony na wykładzie lub ćwiczeniach, student ma obowiązek zamieścić krótkie podsumowanie dyskusji na forum Pegaz.\n",
    "3. Niedozwolone jest:\n",
    "    - wspólne rozwiązywanie zadań programistycznych,\n",
    "    - udostępnianie innym studentom rozwiązania zadania w formie szczegółowego (krok po kroku) opisu algorytmu lub kodu,\n",
    "    - posługiwanie się notatkami w trakcie trwania egzaminu końcowego, \"ściąganie\".\n",
    "\n",
    "Każdy student, który stwierdzi naruszenie powyższych zasad, ma obowiązek poinformować o tym koordynatora przedmiotu.\n",
    "\n",
    "W zależności od skali przewinienia kary za złamanie powyższych zasad to:\n",
    "- bezwarunkowe obniżenie oceny końcowej z przedmiotu,\n",
    "- bezwarunkowe NZAL z całego przedmiotu,\n",
    "- postępowanie dyscyplinarne."
   ]
  },
  {
   "cell_type": "markdown",
   "metadata": {},
   "source": [
    "## Wysyłanie zadań\n",
    "\n",
    "Zadania należy wysyłać w podanym terminie do prowadzących grupy ćwiczeniowe:\n",
    "* grupa 1 - przez system Pegaz\n",
    "* grupa 2, 3 - na adres e-mail damian.lesniak@doctoral.uj.edu.pl\n",
    "\n",
    "W załączniku należy przesłać dwa pliki:\n",
    "* uzupełniony notebook w formacie ipynb\n",
    "* _ten sam_ notebook w formacie html (File/Download as/HTML)\n",
    "\n",
    "Proszę upewnić się przy wysyłaniu, że załączniki nie są \"uszkodzone\", tzn. że wszystko dobrze się otwiera.\n",
    "\n",
    "Do nazwy notebooków proszę dopisać z przodu swoje nazwisko i imię (bez polskich znaków), np.\n",
    "* Lesniak_Damian_Zadanie_1_Optimizery.ipynb\n",
    "* Lesniak_Damian_Zadanie_1_Optimizery.html\n",
    "\n",
    "Proszę nie wysyłać poprawek do rozwiązań."
   ]
  }
 ],
 "metadata": {
  "kernelspec": {
   "display_name": "Python 3",
   "language": "python",
   "name": "python3"
  },
  "language_info": {
   "codemirror_mode": {
    "name": "ipython",
    "version": 3
   },
   "file_extension": ".py",
   "mimetype": "text/x-python",
   "name": "python",
   "nbconvert_exporter": "python",
   "pygments_lexer": "ipython3",
   "version": "3.7.0"
  }
 },
 "nbformat": 4,
 "nbformat_minor": 2
}
