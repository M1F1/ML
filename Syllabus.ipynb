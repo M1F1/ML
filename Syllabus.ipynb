{
 "cells": [
  {
   "cell_type": "markdown",
   "metadata": {},
   "source": [
    "# Skrócony syllabus\n",
    "---\n",
    "- rachunek prawdopodobieństwa i statystyka - powtórzenie\n",
    "- analiza matematyczna, algebra liniowa - powtórzenie\n",
    "- metody Bayesowskie vs metody typu Maximum Likelihood\n",
    "- optymalizacja gradientowa\n",
    "- regresja liniowa\n",
    "- regresja logistyczna\n",
    "- metody regularyzacji\n",
    "- metody kernelowe\n",
    "- SVM\n",
    "- podstawy sieci neuronowych\n",
    "- drzewa decyzyjne\n",
    "- bias-variance trade off\n",
    "- automatyczny dobór hiperparametrów\n",
    "- bagging, boosting, gradient boosting, komitety, modele typu Random Forest\n",
    "- metryki mierzące skuteczność modelu\n",
    "- podstawy reinforcement learningu"
   ]
  }
 ],
 "metadata": {
  "kernelspec": {
   "display_name": "Python 3",
   "language": "python",
   "name": "python3"
  },
  "language_info": {
   "codemirror_mode": {
    "name": "ipython",
    "version": 3
   },
   "file_extension": ".py",
   "mimetype": "text/x-python",
   "name": "python",
   "nbconvert_exporter": "python",
   "pygments_lexer": "ipython3",
   "version": "3.7.0"
  }
 },
 "nbformat": 4,
 "nbformat_minor": 2
}
