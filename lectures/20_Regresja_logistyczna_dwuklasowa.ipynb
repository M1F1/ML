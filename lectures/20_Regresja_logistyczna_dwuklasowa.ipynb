{
 "cells": [
  {
   "cell_type": "markdown",
   "metadata": {},
   "source": [
    "## Motywacja\n",
    "\n",
    "1. postąpić analogicznie jak w przypadku regresji liniowej\n",
    "2. użyć funkcji kosztu dla klasyfikacji\n",
    "3. problem\n",
    "  * model musi zwracać wartości z przedziału $[0,1]$\n",
    "  * w problemie wieloklasowym musi zwracać kilka wartości, które sumują się do 1\n",
    "  * model liniowy zwraca dowolne liczby rzeczywiste\n"
   ]
  },
  {
   "cell_type": "markdown",
   "metadata": {},
   "source": [
    "## $K = 2$\n",
    "\n",
    "1. dwie klasy: $c_1$, $c_2$\n",
    "2. model będzie zwracał jedną liczbę: $\\widehat{p}(y=c_2\\mid\\mathbf{x})$\n",
    "3. drugie prawdopodobieństwo da się obliczyć\n",
    "\n",
    "### Model - część liniowa\n",
    "\n",
    "1. tak samo, jak w regresji liniowej\n",
    "$$\\begin{align}\n",
    "\\mathbf{x} &= (x_1, \\ldots, x_D) \\\\\n",
    "\\theta &= (\\theta_0, \\theta_1, \\ldots, \\theta_D) \\\\\n",
    "z&=\\langle[1, \\mathbf{x}], \\theta\\rangle\n",
    "\\end{align}$$\n",
    "\n",
    "### Funkcja sigmoid\n",
    "\n",
    "1. wzór\n",
    "$$ \\sigma(z) = \\dfrac{1}{1 + \\exp(-z)} $$\n",
    "2. $\\sigma(z)$ to prawdopodobieństwo klasy $c_2$, $1-\\sigma(z)$ to prawdopodobieństwo klasy $c_1$\n",
    "3. dlaczego akurat taki wzór?\n",
    "  * odwróćmy pytanie - jeśli\n",
    "    * $\\sigma(z) = \\widehat{p}(y=c_2\\mid\\mathbf{x})$\n",
    "    * $1 - \\sigma(z) = \\widehat{p}(y=c_1\\mid\\mathbf{x})$\n",
    "    * to czym jest $z$? (__przeliczyć na ćwiczeniach__)\n",
    "$$ z = \\ln\\big[\\dfrac{\\widehat{p}(y=c_2\\mid\\mathbf{x})}{\\widehat{p}(y=c_1\\mid\\mathbf{x})}\\big] $$\n",
    "4. $z$ to tzw. __log odds__ lub __logit__, odpowiada __logarytmowi stosunku prawdopodobieństw__\n",
    "  * prawdopodobieństwa mogą być w przedziale $(0,1)$\n",
    "    * dlaczego nawiasy otwarte? to dobrze czy źle?\n",
    "  * stosunek prawdopodobieństw może być w przedziale $(0, +\\infty)$\n",
    "  * logarytm stosunku prawdopodobieństw może być dowolną liczbą rzeczywistą\n",
    "  * a więc $z$ może być przybliżane modelem liniowym\n",
    "5. no dobrze, ale to samo można osiągnąć na wiele innych sposobów\n",
    "  * taka postać $z$ jest związana z pewnym dodatkowym założeniem o $p(\\mathbf{x}\\mid y)$\n",
    "  * notebook Linear Discriminant Analysis\n",
    "\n",
    "### Podsumowanie\n",
    "\n",
    "1. predykcja\n",
    "$$\\begin{align}\n",
    "z &= \\langle[1, \\mathbf{x}], \\theta\\rangle \\\\\n",
    "\\widehat{y} &= \\sigma(z) \\\\\n",
    "\\widehat{p}(y\\mid\\mathbf{x}) &\\sim (1-\\widehat{y}, \\widehat{y})\n",
    "\\end{align}$$\n",
    "\n",
    "2. funkcja kosztu\n",
    "  * $\\widehat{y_n}$ jest liczbą\n",
    "  * oznaczamy klasy liczbami $c_1 = 0$ oraz $c_2 = 1$\n",
    "  * teraz można wykonywać działania algebraiczne na $y_n$\n",
    "  * wygodny zapis funkcji kosztu\n",
    "$$ L(\\theta) = - \\dfrac{1}{N}\\sum_{n=1}^N \\big( y_n\\ln(\\widehat{y_n}) + (1-y_n)\\ln(1-\\widehat{y_n}) \\big) $$\n",
    "    * zawsze albo $y_n = 0$, albo $1-y_n = 0$\n",
    "      * dokładnie jeden niezerowy wyraz pod znakiem sumy\n",
    "    * wzór to __entropia krzyżowa__ (__cross entropy__)\n",
    "      * póki co wystarczy myśleć o tym wzorze jako o sprytnym sposobie zapisu, nie trzeba rozumieć go głębiej\n",
    "      * ale __trzeba pamiętać nazwę__\n",
    "\n",
    "3. gradient $L$ względem $\\theta$ (__rozpisać na ćwiczeniach__)\n",
    "$$\\begin{align}\n",
    "\\nabla\\,L(\\theta) &= -\\dfrac{1}{N} \\sum_{n=1}^N \\frac{\\partial L}{\\partial\\widehat{y_n}}\\frac{\\partial\\widehat{y_n}}{\\partial z_n}\\frac{\\partial z_n}{\\partial\\theta}\\\\\n",
    "&=\\ldots \\\\\n",
    "&=\\dfrac{1}{N}\\sum_{n=1}^N(y_n - \\widehat{y_n})x_n\n",
    "\\end{align}$$\n",
    "  * czy ten wzór wygląda znajomo?"
   ]
  }
 ],
 "metadata": {
  "kernelspec": {
   "display_name": "Python 3",
   "language": "python",
   "name": "python3"
  },
  "language_info": {
   "codemirror_mode": {
    "name": "ipython",
    "version": 3
   },
   "file_extension": ".py",
   "mimetype": "text/x-python",
   "name": "python",
   "nbconvert_exporter": "python",
   "pygments_lexer": "ipython3",
   "version": "3.7.0"
  }
 },
 "nbformat": 4,
 "nbformat_minor": 2
}
