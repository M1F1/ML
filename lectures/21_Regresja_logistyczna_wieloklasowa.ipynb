{
 "cells": [
  {
   "cell_type": "markdown",
   "metadata": {},
   "source": [
    "## $K > 2$\n",
    "\n",
    "1. $K$ klas: $c_1, \\ldots, c_K$\n",
    "2. model będzie zwracał wektor $K$ liczb"
   ]
  },
  {
   "cell_type": "markdown",
   "metadata": {},
   "source": [
    "### Model - część liniowa\n",
    "\n",
    "1. tym razem $\\theta$ musi być macierzą, aby zwrócić $K$ liczb\n",
    "$$\\begin{align}\n",
    "\\mathbf{x} &= (x_1, \\ldots, x_D) \\\\\n",
    "\\theta &= \\begin{bmatrix} \n",
    "    \\theta_{0,1} & \\dots & \\theta_{0,K} \\\\\n",
    "    \\theta_{1,1} & \\dots & \\theta_{1,K} \\\\\n",
    "    \\vdots & \\ddots & \\vdots \\\\\n",
    "    \\theta_{D,1} & \\dots & \\theta_{D,K} \n",
    "    \\end{bmatrix}\\\\\n",
    "\\mathbf{z} &= [1, \\mathbf{x}]^T\\cdot\\theta \\\\\n",
    "\\mathbf{z} &= (z_1, \\ldots, z_K)\n",
    "\\end{align}$$\n"
   ]
  },
  {
   "cell_type": "markdown",
   "metadata": {},
   "source": [
    "### Funkcja softmax\n",
    "\n",
    "1. wzór\n",
    "$$\\begin{align}\n",
    "\\sigma(\\mathbf{z})_k &= \\dfrac{\\exp(z_k)}{\\sum_{k=1}^K \\exp(z_k)} \\\\\n",
    "\\sigma(\\mathbf{z}) &= (\\dfrac{\\exp(z_1)}{\\sum_{k=1}^K \\exp(z_k)}, \\ldots, \\dfrac{\\exp(z_K)}{\\sum_{k=1}^K \\exp(z_k)})\n",
    "\\end{align}$$\n",
    "2. $\\sigma(z)_k$ to prawdopodobieństwo klasy $c_k$\n",
    "  * licznik zawsze dodatni\n",
    "  * w mianownikach __normalizacja__\n",
    "  * __wygładzona__ funkcja argmax\n",
    "3. wzór zgodny z funkcją sigmoid dla $K=2$\n",
    "  * trzeba wziąć $\\mathbf{z} = (0, z)$\n",
    "4. jeśli dodać do wszystkich współrzędnych wektora $\\mathbf{z}$ tę samą stałą, to $\\sigma(\\mathbf{z})$ się nie zmieni\n",
    "  * czy widać z definicji?\n",
    "  * to ma sens \"geometrycznie\"\n",
    "    * dozwolone wartości $\\sigma(\\mathbf{z})$ leżą na rozmaitości wymiaru $K-1$\n",
    "    * $\\mathbf{z}$ jest w przestrzeni $K$-wymiarowej\n",
    "    * musi być jeden wymiar, który nic nie zmienia\n",
    "    * wyznacza go wektor $(1,1,\\ldots,1)$\n",
    "5. zgodnie z powyższym ciężko interpretować wartość $z_k$\n",
    "  * ale można interpretować $z_{k_1} - z_{k_2}$ (__przeliczyć na ćwiczeniach__)\n",
    "$$ z_{k_1} - z_{k_2} = \\ln\\big[\\dfrac{\\widehat{p}(y=c_{k_1}\\mid\\mathbf{x})}{\\widehat{p}(y=c_{k_2}\\mid\\mathbf{x})}\\big]$$\n"
   ]
  },
  {
   "cell_type": "markdown",
   "metadata": {},
   "source": [
    "### Podsumowanie\n",
    "\n",
    "1. predykcja\n",
    "$$\\begin{align}\n",
    "\\mathbf{z} &= [1, \\mathbf{x}]^T\\cdot\\theta \\\\\n",
    "\\widehat{\\mathbf{y}} &= \\sigma(\\mathbf{z})\n",
    "\\end{align}$$\n",
    "\n",
    "2. funkcja kosztu\n",
    "  * $\\widehat{\\mathbf{y_n}}$ jest wektorem długości $K$\n",
    "  * wygodnie wziąć reprezentację one-hot etykiety $y_n$\n",
    "    * oznaczmy go przez $\\mathbf{y_n^{\\circ}}$\n",
    "    * jeśli $y_n = c_k$\n",
    "      * $\\mathbf{y_{n,k}^{\\circ}} = 1$\n",
    "      * $\\mathbf{y_{n,j}^{\\circ}} = 0$ dla $j\\neq k$\n",
    "  * wygodny zapis funkcji kosztu\n",
    "$$\\begin{align} L(\\theta) &= - \\dfrac{1}{N}\\sum_{n=1}^N \\langle \\mathbf{y_n^{\\circ}}, \\ln[\\widehat{\\mathbf{y_n}}]\\rangle\\\\\n",
    "&= - \\dfrac{1}{N}\\sum_{n=1}^N\\sum_{k=1}^K \\mathbf{y_{n,k}^{\\circ}}\\ln[\\widehat{\\mathbf{y_{n,k}}}]\n",
    "\\end{align}$$\n",
    "    * dokładnie jeden indeks $k$, który daje niezerowy iloczyn\n",
    "    * wzór to, znów, __entropia krzyżowa__ (__cross entropy__), tym razem dla $K$ klas\n",
    "\n",
    "3. gradient $L$ względem $\\theta$ (__rozpisać na ćwiczeniach__)\n",
    "$$\\nabla\\,L(\\theta) = \\ldots$$\n",
    "  * może już warto skorzystać z grafu obliczeń?"
   ]
  }
 ],
 "metadata": {
  "kernelspec": {
   "display_name": "Python 3",
   "language": "python",
   "name": "python3"
  },
  "language_info": {
   "codemirror_mode": {
    "name": "ipython",
    "version": 3
   },
   "file_extension": ".py",
   "mimetype": "text/x-python",
   "name": "python",
   "nbconvert_exporter": "python",
   "pygments_lexer": "ipython3",
   "version": "3.7.0"
  }
 },
 "nbformat": 4,
 "nbformat_minor": 2
}
