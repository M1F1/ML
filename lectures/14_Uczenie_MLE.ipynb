{
 "cells": [
  {
   "cell_type": "markdown",
   "metadata": {},
   "source": [
    "## Uczenie Maximum Likelihood\n",
    "\n",
    "#### Parametry modelu\n",
    "\n",
    "* __model__ ma __parametry__ - oznaczamy je $\\theta$\n",
    "* nie mylić z __hiperparametrami__ - parametry są __uczone__, hiperparametry należy __wybrać ręcznie__\n",
    "* __nauczony model__ ma ustalone wartości $\\widehat\\theta$\n",
    "* dla różnych ustalonych wartości $\\widehat\\theta$ nauczony model opisuje __różne rozkłady prawdopodobieństwa__\n",
    "* uczenie metodą Maximum Likelihood oznacza znalezienie takich wartości $\\widehat\\theta$, które __maksymalizują likelihood zbioru treningowego w ramach nauczonego modelu__\n",
    "* zbiór treningowy oznaczamy $D_{Tr}$\n",
    "* nazwa \"Maximum Likelihood Estimator\" (MLE) opisuje cały proces uczenia\n",
    "\n",
    "#### Model generatywny\n",
    "\n",
    "* zamiast $p(\\mathbf{x})$ piszemy teraz\n",
    "$$p(\\mathbf{x}\\mid\\theta)$$\n",
    "* zbiór treningowy to\n",
    "$$D_{Tr} = \\{\\mathbf{x}_1, \\ldots, \\mathbf{x}_N\\}$$\n",
    "* likelihood zbioru treningowego dla ustalonych parametrów $\\widehat\\theta$ to\n",
    "$$p(\\mathbf{x}=\\mathbf{x}_1 \\mid\\theta=\\widehat\\theta)\\cdot\\ldots\\cdot p(\\mathbf{x}=\\mathbf{x}_N\\mid\\theta=\\widehat\\theta) = \\prod_{n=1}^N p(\\mathbf{x}=\\mathbf{x}_n \\mid\\theta=\\widehat\\theta)$$\n",
    "* uwaga zaawansowana - jeśli model generatywny nie daje nam wprost wzoru na likelihood przykładu $p(\\mathbf{x}=\\mathbf{x}_n \\mid\\theta=\\widehat\\theta)$, to musimy umieć zdefiniować jakieś sprytne przybliżenie\n",
    "\n",
    "#### Model dyskryminatywny\n",
    "\n",
    "* zamiast $p(y\\mid\\mathbf{x})$ piszemy teraz\n",
    "$$p(y\\mid\\mathbf{x},\\theta)$$\n",
    "* zbiór treningowy to\n",
    "$$D_{Tr} = \\{(\\mathbf{x}_1, y_1), \\ldots, (\\mathbf{x}_N, y_N)\\}$$\n",
    "* likelihood zbioru treningowego dla ustalonych parametrów $\\widehat\\theta$ to\n",
    "$$p(y=y_1\\mid\\mathbf{x}=\\mathbf{x}_1,\\theta=\\widehat\\theta)\\cdot\\ldots\\cdot p(y=y_N\\mid\\mathbf{x}=\\mathbf{x}_N,\\theta=\\widehat\\theta) = \\prod_{n=1}^N p(y=y_n\\mid\\mathbf{x}=\\mathbf{x}_n,\\theta=\\widehat\\theta)$$"
   ]
  },
  {
   "cell_type": "markdown",
   "metadata": {},
   "source": [
    "## Mean Log Likelihood\n",
    "\n",
    "* w powyższych wzorach pojawiają się iloczyny $N$ prawdopodobieństw\n",
    "* jeśli $N$ jest duże (zazwyczaj jest _bardzo_ duże), obliczenia są niestabilne numerycznie\n",
    "* logarytm (naturalny) pozwala zamienić iloczyn na sumę\n",
    "    * model generatywny\n",
    "        $$\\ln[\\prod_{n=1}^N p(\\mathbf{x}=\\mathbf{x}_n \\mid\\theta=\\widehat\\theta)] = \\sum_{n=1}^N\\ln[p(\\mathbf{x}=\\mathbf{x}_n \\mid\\theta=\\widehat\\theta)]$$\n",
    "    * model dyskryminatywny\n",
    "        $$\\ln[\\prod_{n=1}^N p(y=y_n\\mid\\mathbf{x}=\\mathbf{x}_n,\\theta=\\widehat\\theta)] = \\sum_{n=1}^N \\ln[p(y=y_n\\mid\\mathbf{x}=\\mathbf{x}_n,\\theta=\\widehat\\theta)]$$\n",
    "* logarytm jest funkcją __silnie rosnącą__ - maksymalizowanie likelihood jest __równoważne__ maksymalizowaniu log likelihood\n",
    "* zazwyczaj chcemy też zamienić sumę na __średnią__\n",
    "    * model generatywny\n",
    "        $$\\dfrac{1}{N}\\sum_{n=1}^N\\ln[p(\\mathbf{x}=\\mathbf{x}_n \\mid\\theta=\\widehat\\theta)]$$\n",
    "    * model dyskryminatywny\n",
    "        $$\\dfrac{1}{N}\\sum_{n=1}^N\\ln[p(y=y_n\\mid\\mathbf{x}=\\mathbf{x}_n,\\theta=\\widehat\\theta)]$$\n",
    "* średnia sprawia, że maksymalizowana funkcja ma __podobny rząd wielkości__ dla __różnych rozmiarów zbioru treningowego__"
   ]
  },
  {
   "cell_type": "markdown",
   "metadata": {},
   "source": [
    "## Funkcja kosztu\n",
    "\n",
    "1. chcemy __minimalizować__ funkcję kosztu\n",
    "2. chcemy __maksymalizować__ mean log likelihood\n",
    "3. najprostsze rozwiązanie - funkcja kosztu to __negative mean log likelihood__ (dodajemy znak minus)"
   ]
  }
 ],
 "metadata": {
  "kernelspec": {
   "display_name": "Python 3",
   "language": "python",
   "name": "python3"
  },
  "language_info": {
   "codemirror_mode": {
    "name": "ipython",
    "version": 3
   },
   "file_extension": ".py",
   "mimetype": "text/x-python",
   "name": "python",
   "nbconvert_exporter": "python",
   "pygments_lexer": "ipython3",
   "version": "3.7.0"
  }
 },
 "nbformat": 4,
 "nbformat_minor": 2
}
