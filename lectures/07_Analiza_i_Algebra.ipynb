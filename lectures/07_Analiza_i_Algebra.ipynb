{
 "cells": [
  {
   "cell_type": "markdown",
   "metadata": {},
   "source": [
    "## Granica ciągu\n",
    "\n",
    "Dany jest ciąg ${x_n}_{n\\in\\mathbb{N}}$. Mówimy, że $g$ jest granicą tego ciągu, jeśli\n",
    "\n",
    "$$\\forall_{\\epsilon>0}\\exists_{N\\in\\mathbb{N}}\\forall_{n>N,\\,n\\in\\mathbb{N}}: |x_n - g| < \\epsilon$$\n",
    "\n",
    "Czyli: jaki byśmy nie wybrali margines błędu $\\epsilon$, to od pewnego momentu $N$ __wszystkie__ elementy ciągu $x_n, n>N$ są bliżej niż $\\epsilon$ do $g$.\n",
    "\n",
    "Proszę sobie powtórzyć wszystkie własności granic."
   ]
  },
  {
   "cell_type": "markdown",
   "metadata": {},
   "source": [
    "## Pochodne i całki (funkcje jednej zmiennej)\n",
    "\n",
    "Obowiązuje znajomość wzorów na pochodne podstawowych funkcji jednej zmiennej (wielomiany, funkcje trygonometryczne, funkcje wykładnicze, logarytmy itp.).\n",
    "\n",
    "Trzeba znać wzory na pochodną sumy, różnicy, ilorazu, iloczynu, złożenia funkcji itp.\n",
    "\n",
    "Trzeba odróżniać całkę oznaczoną (pole pod wykresem w danym przedziale) od nieoznaczonej (odwrotność pochodnej). Trzeba umieć obliczyć całkę oznaczoną przy pomocy całki nieoznaczonej.\n",
    "\n",
    "Trzeba znać wszystkie inne podstawowe własności (np. suma całek to całka sumy, iloczyn całek to __nie__ całka iloczynu, iloczyn całki przez stałą to całka z funkcji przemnożonej przez stałą itp.)."
   ]
  },
  {
   "cell_type": "markdown",
   "metadata": {},
   "source": [
    "## Przestrzeń wektorowa\n",
    "\n",
    "Trzeba wiedzieć, co to jest wektor.\n",
    "\n",
    "Trzeba znać aksjomaty przestrzeni wektorowej, żeby wiedzieć, jakie działania możemy wykonywać na wektorach (dodawanie, mnożenie przez stałą, rozdzielność mnożenia względem dodawania itp.).\n",
    "\n",
    "Trzeba znać przestrzenie $\\mathbb{R}^D$.\n",
    "\n",
    "Trzeba wiedzieć, co to jest podprzestrzeń, wymiar itp."
   ]
  },
  {
   "cell_type": "markdown",
   "metadata": {},
   "source": [
    "## Norma wektora\n",
    "\n",
    "W przestrzeni wektorowej można wprowadzić normę, czyli długość wektora. Długość liczy się zawsze od początku układu współrzędnych (wektor \"wskazuje\" na swój koniec). Normę wektora $v$ oznaczamy $\\|v\\|$, przy czym konkretny wzór zależy od kontekstu (jest nieskończenie wiele różnych norm).\n",
    "\n",
    "Norma zadaje odległość między wektorami (można myśleć, że między \"końcami\" wektorów). Odległość między $v$ i $w$ zdefiniowana jest jako $\\|v - w\\|$.\n",
    "\n",
    "Przykłady norm.\n",
    "\n",
    "Niech $v = (v_1, v_2, \\ldots, v_D)$.\n",
    "\n",
    "Norma euklidesowa (L2):\n",
    "$$\\|v\\| = \\sqrt{v_1^2 + v_2^2 + \\ldots + v_D^2}$$\n",
    "\n",
    "Norma maximum/supremum (L-nieskończoność):\n",
    "$$\\|v\\| = \\max\\{|v_1|, |v_2|, \\ldots, |v_D|\\}$$\n",
    "\n",
    "Norma L1:\n",
    "$$\\|v\\| = |v_1| + |v_2| + \\ldots + |v_D|$$\n",
    "\n",
    "Norma Lp (dla $p\\geq 1$):\n",
    "$$\\|v\\| = (|v_1|^p + |v_2|^p + \\ldots + |v_D|^p)^\\frac1p$$\n",
    "Normę Lp podajemy tu informacyjnie, żeby wiedzieć, skąd się bierze nazwa norm L1 i L2.\n",
    "\n",
    "Norma jest w pewnym sensie uogólnieniem wartości bezwzględnej na więcej niż jeden wymiar."
   ]
  },
  {
   "cell_type": "markdown",
   "metadata": {},
   "source": [
    "## Iloczyn skalarny\n",
    "\n",
    "Niech $v = (v_1, v_2, \\ldots, v_D)$ oraz $w = (w_1, w_2, \\ldots, w_D)$.\n",
    "\n",
    "Standardowy iloczyn skalarny między dwoma wektorami z przestrzeni $\\mathbb{R}^D$ zdefiniowany jest jako\n",
    "\n",
    "$$<v,w> := v_1w_1 + v_2w_2 + \\ldots + v_Dw_D$$\n",
    "\n",
    "Każdy iloczyn skalarny zadaje normę wektora\n",
    "\n",
    "$$\\|v\\| := \\sqrt{<v,v>}$$\n",
    "\n",
    "Standardowy iloczyn skalarny zadaje normę L2. Jeśli nie będzie podane inaczej, to przez _iloczyn skalarny_ rozumiemy standardowy iloczyn skalarny.\n",
    "\n",
    "Iloczyn skalarny definiuje kąt pomiędzy wektorami - spełnia on równanie\n",
    "$$<v,w> = \\|v\\| \\cdot \\|w\\| \\cdot \\cos(\\angle(v,w))$$\n",
    "\n",
    "Jeśli $\\|v\\|=1$, to $<v,w>$ jest __długością rzutu prostopadłego__ wektora $w$ na kierunek wyznaczony wektorem $v$. Ujemna długość oznacza, że rzut ma przeciwny zwrot względem $v$."
   ]
  },
  {
   "cell_type": "markdown",
   "metadata": {},
   "source": [
    "## Baza ortonormalna\n",
    "\n",
    "Wektory $e_1, e_2, \\ldots, e_D$ tworzą bazę ortonormalną przestrzeni $V$, jeśli:\n",
    "* długość każdego z tych wektorów wynosi jeden - $<e_j,e_j> = 1$\n",
    "* każde dwa różne wektory są prostopadłe - $<e_j,e_k> = 0$ dla $k\\neq j$\n",
    "* każdy wektor $v\\in V$ da się zapisać jako kombinacja wektorów $e_1, \\ldots, e_D$\n",
    "\n",
    "Wtedy dla dowolnego wektora $v\\in V$ mamy:\n",
    "$$ v =\\, <v,e_1>e_1 + \\ldots + <v,e_n>e_n$$\n",
    "\n",
    "$<v,e_j>e_j$ to rzut prostopadły $v$ na $e_j$. $e_j$ wyznacza __kierunek__ tego rzutu (wektor), natomiast $<v,e_j>$ jego __długość__ (liczba, może być ujemna).\n",
    "\n",
    "Przykład bazy ortonormalnej to tzw. __baza kanoniczna__ - wektor $e_j$ ma $1$ na $j$-tej pozycji oraz $0$ na wszystkich pozostałych."
   ]
  },
  {
   "cell_type": "markdown",
   "metadata": {},
   "source": [
    "## Funkcje jako wektory\n",
    "\n",
    "Funkcje o wartościach w danej przestrzeni wektorowej również tworzą przestrzeń wektorową - w takim wypadku funkcje to wektory.\n",
    "\n",
    "Działania wektorowe na funkcjach (dodawanie, mnożenie przez stałą) definiujemy przez działania na wartościach tych funkcji.\n",
    "\n",
    "Rozważmy na przykład przestrzeń funkcji ciągłych z $\\mathbb{R}$ w $\\mathbb{R}$. Niech $f, g: \\mathbb{R} \\to \\mathbb{R}$.\n",
    "\n",
    "#### Norma\n",
    "\n",
    "Normy Lp definiuje się analogicznie - sumę trzeba zastąpić całką. Na przykład norma L1 to\n",
    "\n",
    "$$ \\|f\\| := \\int_\\mathbb{R} |f(x)|\\,dx$$\n",
    "\n",
    "W wypadku normy Lp całka nie zawsze istnieje. Przestrzeń Lp to przestrzeń funkcji, dla których da się policzyć normę Lp.\n",
    "\n",
    "#### Iloczyn skalarny\n",
    "\n",
    "Standardowy iloczyn skalarny definiuje się jako\n",
    "\n",
    "$$ <f,g>\\,:= \\int_\\mathbb{R} f(x)g(x)\\,dx$$\n",
    "\n",
    "Zadaje on normę L2."
   ]
  },
  {
   "cell_type": "markdown",
   "metadata": {},
   "source": [
    "## Odwzorowania liniowe\n",
    "\n",
    "Trzeba znać:\n",
    "* związek rzędu macierzy z wymiarem obrazu odwzorowania liniowego\n",
    "* związek wyznacznika macierzy z rzędem macierzy\n",
    "* wzór na iloczyn dwóch macierzy\n",
    "* definicję i własności odwzorowań liniowych i afinicznych\n",
    "\n",
    "Macierz o wymiarach $n$ wierszy na $m$ kolumn reprezentuje odwzorowanie liniowe z $\\mathbb{R}^m$ w $\\mathbb{R}^n$. Mnożenie dwóch lub więcej macierzy to składanie odpowiadających im odwzorowań odwzorowań. Prawie zawsze mnożenie macierzy jest nieprzemienne.\n",
    "\n",
    "Wektory reprezentuje się jako macierze jednokolumnowe. Mnożenie macierzy przez taki wektor odpowiada obliczeniu wartości odwzorowania liniowego.\n",
    "\n",
    "Niech macierz $M$ opisuje odwzorowanie liniowe $f:V\\to W$. Jeśli istnieje macierz odwrotna $M^{-1}$, to opisuje ona odwzorowanie odwrotne $f^{-1}$. W takim razie $f$ jest ciągłą bijekcją pomiędzy $V$ oraz $W$, więc obie te przestrzenie muszą mieć ten sam wymiar. Oznacza to, że $M$ jest macierzą kwadratową."
   ]
  },
  {
   "cell_type": "markdown",
   "metadata": {},
   "source": [
    "## Geometria odwzorowania liniowego\n",
    "\n",
    "Okazuje się, że każde odwzorowanie liniowe jest złożeniem obrotów przestrzeni oraz (wielokrotnego) rozciągania/skracania przestrzeni wzdłuż prostopadłych kierunków. Formalnie mówi o tym tzw. _singular-value decomposition_ (SVD).\n",
    "\n",
    "Warto zauważyć, że w takim razie $D$-wymiarowa kula jednostkowa zawsze zostanie przekształcona w elipsoidę. Ta elipsoida może mieć mniej niż $D$ wymiarów (zostać \"spłaszczona\", w jednym lub wielu kierunkach). Natomiast nie da się np. przekształcić odwzorowaniem liniowym kuli w kostkę.\n",
    "\n",
    "Proszę obejrzeć animację na https://en.wikipedia.org/wiki/Singular_value_decomposition"
   ]
  },
  {
   "cell_type": "markdown",
   "metadata": {},
   "source": [
    "## Hiperpłaszczyzna rozdzielająca\n",
    "\n",
    "Weźmy pewien wektor $w\\in\\mathbb{R}^D, w\\neq\\mathbf{0}$. Niech $b\\in\\mathbb{R}$ będzie pewną liczbą rzeczywistą. Zastanówmy się, jak wyglądają rozwiązania równania\n",
    "\n",
    "$$<w,x> +\\, b = 0, \\,x\\in\\mathbb{R}^D$$\n",
    "\n",
    "Geometrycznie oznacza to, że jeśli zrzutujemy $x$ na kierunek wyznaczony przez $w$, to otrzymamy $\\dfrac{b}{\\|w\\|^2}w$. W takim razie wszystkie rozwiązania tworzą podprzestrzeń wymiaru $D-1$ prostopadłą do $w$. Ta podprzestrzeń rozdziela $\\mathbb{R}^D$ na dwie części:\n",
    "* $y$ takie że $<w,y>$ jest silnie większe od $-b$\n",
    "* $y$ takie że $<w,y>$ jest silnie mniejsze od $-b$"
   ]
  }
 ],
 "metadata": {
  "kernelspec": {
   "display_name": "Python 3",
   "language": "python",
   "name": "python3"
  },
  "language_info": {
   "codemirror_mode": {
    "name": "ipython",
    "version": 3
   },
   "file_extension": ".py",
   "mimetype": "text/x-python",
   "name": "python",
   "nbconvert_exporter": "python",
   "pygments_lexer": "ipython3",
   "version": "3.7.0"
  }
 },
 "nbformat": 4,
 "nbformat_minor": 2
}
